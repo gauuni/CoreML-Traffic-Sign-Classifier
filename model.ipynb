{
 "cells": [
  {
   "cell_type": "code",
   "execution_count": 2,
   "metadata": {},
   "outputs": [
    {
     "name": "stderr",
     "output_type": "stream",
     "text": [
      "Using TensorFlow backend.\n"
     ]
    }
   ],
   "source": [
    "from keras.models import Model\n",
    "from keras.layers import Input, Activation, concatenate\n",
    "from keras.layers import Flatten, Dropout\n",
    "from keras.layers import Conv2D, MaxPool2D\n",
    "from keras.layers import GlobalAveragePooling2D\n",
    "from keras.optimizers import SGD"
   ]
  },
  {
   "cell_type": "code",
   "execution_count": 3,
   "metadata": {
    "collapsed": true
   },
   "outputs": [],
   "source": [
    "from keras.callbacks import ModelCheckpoint, EarlyStopping, TensorBoard\n",
    "from keras.utils import to_categorical\n",
    "from keras import backend as K"
   ]
  },
  {
   "cell_type": "code",
   "execution_count": 4,
   "metadata": {
    "collapsed": true
   },
   "outputs": [],
   "source": [
    "import pickle\n",
    "from sklearn.model_selection import train_test_split"
   ]
  },
  {
   "cell_type": "markdown",
   "metadata": {},
   "source": [
    "# Model\n",
    "## SqueezeNet"
   ]
  },
  {
   "cell_type": "code",
   "execution_count": 5,
   "metadata": {
    "collapsed": true
   },
   "outputs": [],
   "source": [
    "# Refer from : https://github.com/rcmalli/keras-squeezenet/blob/master/keras_squeezenet/squeezenet.py\n",
    "\n",
    "sq1x1 = \"squeeze1x1\"\n",
    "exp1x1 = \"expand1x1\"\n",
    "exp3x3 = \"expand3x3\"\n",
    "relu = \"relu_\"\n",
    "\n",
    "def fire_module(x, fire_id, squeeze=16, expand=64):\n",
    "    s_id = 'fire' + str(fire_id) + '/'\n",
    "    x = Conv2D(squeeze, (1,1), padding='valid', name=s_id + sq1x1)(x)\n",
    "    x = Activation('relu', name=s_id + relu + sq1x1)(x)\n",
    "    \n",
    "    left = Conv2D(expand, (1,1), padding='valid', name=s_id + exp1x1)(x)\n",
    "    left = Activation('relu', name=s_id + relu + exp1x1)(left)\n",
    "    \n",
    "    right = Conv2D(expand, (3,3), padding='same', name=s_id + exp3x3)(x)\n",
    "    right = Activation('relu', name=s_id + relu + exp3x3)(right)\n",
    "    \n",
    "    #x = add([left, right], name=s_id + 'concat')\n",
    "    x = concatenate([left, right], axis=3, name=s_id + 'concat')\n",
    "    \n",
    "    return x\n",
    "    "
   ]
  },
  {
   "cell_type": "code",
   "execution_count": 6,
   "metadata": {
    "collapsed": true
   },
   "outputs": [],
   "source": [
    "# Refer from : https://github.com/DT42/squeezenet_demo/blob/master/model.py\n",
    "\n",
    "def squeezeNet(nb_classes, input_shape=(32,32,3)):\n",
    "    inputs = Input((input_shape))\n",
    "    x = Conv2D(96, (7,7), activation='relu', strides=(2,2), padding='same', name='conv1')(inputs)\n",
    "    x = MaxPool2D(pool_size=(3,3), strides=(2,2), name='maxpool1')(x)\n",
    "    \n",
    "    x = fire_module(x, fire_id=2, squeeze=16, expand=64)\n",
    "    x = fire_module(x, fire_id=3, squeeze=16, expand=64)\n",
    "    x = fire_module(x, fire_id=4, squeeze=32, expand=128)\n",
    "    x = MaxPool2D(pool_size=(3,3), strides=(2,2), name='maxpool2')(x)\n",
    "    \n",
    "    x = fire_module(x, fire_id=5, squeeze=32, expand=128)\n",
    "    x = fire_module(x, fire_id=6, squeeze=48, expand=192)\n",
    "    x = fire_module(x, fire_id=7, squeeze=48, expand=192)\n",
    "    x = fire_module(x, fire_id=8, squeeze=64, expand=256)\n",
    "    x = MaxPool2D(pool_size=(3,3), strides=(2,2), name='maxpool3')(x)\n",
    "    \n",
    "    x = fire_module(x, fire_id=9, squeeze=64, expand=256)\n",
    "    \n",
    "    x = Dropout(0.5, name='drop9')(x)\n",
    "    \n",
    "    x = Conv2D(nb_classes, (1,1), activation='relu', padding='valid', name='conv10')(x)\n",
    "    x = GlobalAveragePooling2D(name='avgpool10')(x)\n",
    "    \n",
    "    softmax = Activation(\"softmax\", name='softmax')(x)\n",
    "    \n",
    "    model = Model(inputs=inputs, outputs=softmax)\n",
    "    model.summary()\n",
    "    sgd = SGD(lr=0.01, decay=1e-6, momentum=0.9, nesterov=True)\n",
    "    model.compile(optimizer=sgd, loss='categorical_crossentropy', metrics=['accuracy'])\n",
    "           \n",
    "    return model\n",
    "    "
   ]
  },
  {
   "cell_type": "code",
   "execution_count": 7,
   "metadata": {
    "scrolled": true
   },
   "outputs": [
    {
     "name": "stdout",
     "output_type": "stream",
     "text": [
      "____________________________________________________________________________________________________\n",
      "Layer (type)                     Output Shape          Param #     Connected to                     \n",
      "====================================================================================================\n",
      "input_1 (InputLayer)             (None, 32, 32, 3)     0                                            \n",
      "____________________________________________________________________________________________________\n",
      "conv1 (Conv2D)                   (None, 16, 16, 96)    14208       input_1[0][0]                    \n",
      "____________________________________________________________________________________________________\n",
      "maxpool1 (MaxPooling2D)          (None, 7, 7, 96)      0           conv1[0][0]                      \n",
      "____________________________________________________________________________________________________\n",
      "fire2/squeeze1x1 (Conv2D)        (None, 7, 7, 16)      1552        maxpool1[0][0]                   \n",
      "____________________________________________________________________________________________________\n",
      "fire2/relu_squeeze1x1 (Activatio (None, 7, 7, 16)      0           fire2/squeeze1x1[0][0]           \n",
      "____________________________________________________________________________________________________\n",
      "fire2/expand1x1 (Conv2D)         (None, 7, 7, 64)      1088        fire2/relu_squeeze1x1[0][0]      \n",
      "____________________________________________________________________________________________________\n",
      "fire2/expand3x3 (Conv2D)         (None, 7, 7, 64)      9280        fire2/relu_squeeze1x1[0][0]      \n",
      "____________________________________________________________________________________________________\n",
      "fire2/relu_expand1x1 (Activation (None, 7, 7, 64)      0           fire2/expand1x1[0][0]            \n",
      "____________________________________________________________________________________________________\n",
      "fire2/relu_expand3x3 (Activation (None, 7, 7, 64)      0           fire2/expand3x3[0][0]            \n",
      "____________________________________________________________________________________________________\n",
      "fire2/concat (Concatenate)       (None, 7, 7, 128)     0           fire2/relu_expand1x1[0][0]       \n",
      "                                                                   fire2/relu_expand3x3[0][0]       \n",
      "____________________________________________________________________________________________________\n",
      "fire3/squeeze1x1 (Conv2D)        (None, 7, 7, 16)      2064        fire2/concat[0][0]               \n",
      "____________________________________________________________________________________________________\n",
      "fire3/relu_squeeze1x1 (Activatio (None, 7, 7, 16)      0           fire3/squeeze1x1[0][0]           \n",
      "____________________________________________________________________________________________________\n",
      "fire3/expand1x1 (Conv2D)         (None, 7, 7, 64)      1088        fire3/relu_squeeze1x1[0][0]      \n",
      "____________________________________________________________________________________________________\n",
      "fire3/expand3x3 (Conv2D)         (None, 7, 7, 64)      9280        fire3/relu_squeeze1x1[0][0]      \n",
      "____________________________________________________________________________________________________\n",
      "fire3/relu_expand1x1 (Activation (None, 7, 7, 64)      0           fire3/expand1x1[0][0]            \n",
      "____________________________________________________________________________________________________\n",
      "fire3/relu_expand3x3 (Activation (None, 7, 7, 64)      0           fire3/expand3x3[0][0]            \n",
      "____________________________________________________________________________________________________\n",
      "fire3/concat (Concatenate)       (None, 7, 7, 128)     0           fire3/relu_expand1x1[0][0]       \n",
      "                                                                   fire3/relu_expand3x3[0][0]       \n",
      "____________________________________________________________________________________________________\n",
      "fire4/squeeze1x1 (Conv2D)        (None, 7, 7, 32)      4128        fire3/concat[0][0]               \n",
      "____________________________________________________________________________________________________\n",
      "fire4/relu_squeeze1x1 (Activatio (None, 7, 7, 32)      0           fire4/squeeze1x1[0][0]           \n",
      "____________________________________________________________________________________________________\n",
      "fire4/expand1x1 (Conv2D)         (None, 7, 7, 128)     4224        fire4/relu_squeeze1x1[0][0]      \n",
      "____________________________________________________________________________________________________\n",
      "fire4/expand3x3 (Conv2D)         (None, 7, 7, 128)     36992       fire4/relu_squeeze1x1[0][0]      \n",
      "____________________________________________________________________________________________________\n",
      "fire4/relu_expand1x1 (Activation (None, 7, 7, 128)     0           fire4/expand1x1[0][0]            \n",
      "____________________________________________________________________________________________________\n",
      "fire4/relu_expand3x3 (Activation (None, 7, 7, 128)     0           fire4/expand3x3[0][0]            \n",
      "____________________________________________________________________________________________________\n",
      "fire4/concat (Concatenate)       (None, 7, 7, 256)     0           fire4/relu_expand1x1[0][0]       \n",
      "                                                                   fire4/relu_expand3x3[0][0]       \n",
      "____________________________________________________________________________________________________\n",
      "maxpool2 (MaxPooling2D)          (None, 3, 3, 256)     0           fire4/concat[0][0]               \n",
      "____________________________________________________________________________________________________\n",
      "fire5/squeeze1x1 (Conv2D)        (None, 3, 3, 32)      8224        maxpool2[0][0]                   \n",
      "____________________________________________________________________________________________________\n",
      "fire5/relu_squeeze1x1 (Activatio (None, 3, 3, 32)      0           fire5/squeeze1x1[0][0]           \n",
      "____________________________________________________________________________________________________\n",
      "fire5/expand1x1 (Conv2D)         (None, 3, 3, 128)     4224        fire5/relu_squeeze1x1[0][0]      \n",
      "____________________________________________________________________________________________________\n",
      "fire5/expand3x3 (Conv2D)         (None, 3, 3, 128)     36992       fire5/relu_squeeze1x1[0][0]      \n",
      "____________________________________________________________________________________________________\n",
      "fire5/relu_expand1x1 (Activation (None, 3, 3, 128)     0           fire5/expand1x1[0][0]            \n",
      "____________________________________________________________________________________________________\n",
      "fire5/relu_expand3x3 (Activation (None, 3, 3, 128)     0           fire5/expand3x3[0][0]            \n",
      "____________________________________________________________________________________________________\n",
      "fire5/concat (Concatenate)       (None, 3, 3, 256)     0           fire5/relu_expand1x1[0][0]       \n",
      "                                                                   fire5/relu_expand3x3[0][0]       \n",
      "____________________________________________________________________________________________________\n",
      "fire6/squeeze1x1 (Conv2D)        (None, 3, 3, 48)      12336       fire5/concat[0][0]               \n",
      "____________________________________________________________________________________________________\n",
      "fire6/relu_squeeze1x1 (Activatio (None, 3, 3, 48)      0           fire6/squeeze1x1[0][0]           \n",
      "____________________________________________________________________________________________________\n",
      "fire6/expand1x1 (Conv2D)         (None, 3, 3, 192)     9408        fire6/relu_squeeze1x1[0][0]      \n",
      "____________________________________________________________________________________________________\n",
      "fire6/expand3x3 (Conv2D)         (None, 3, 3, 192)     83136       fire6/relu_squeeze1x1[0][0]      \n",
      "____________________________________________________________________________________________________\n",
      "fire6/relu_expand1x1 (Activation (None, 3, 3, 192)     0           fire6/expand1x1[0][0]            \n",
      "____________________________________________________________________________________________________\n",
      "fire6/relu_expand3x3 (Activation (None, 3, 3, 192)     0           fire6/expand3x3[0][0]            \n",
      "____________________________________________________________________________________________________\n",
      "fire6/concat (Concatenate)       (None, 3, 3, 384)     0           fire6/relu_expand1x1[0][0]       \n",
      "                                                                   fire6/relu_expand3x3[0][0]       \n",
      "____________________________________________________________________________________________________\n",
      "fire7/squeeze1x1 (Conv2D)        (None, 3, 3, 48)      18480       fire6/concat[0][0]               \n",
      "____________________________________________________________________________________________________\n",
      "fire7/relu_squeeze1x1 (Activatio (None, 3, 3, 48)      0           fire7/squeeze1x1[0][0]           \n",
      "____________________________________________________________________________________________________\n",
      "fire7/expand1x1 (Conv2D)         (None, 3, 3, 192)     9408        fire7/relu_squeeze1x1[0][0]      \n",
      "____________________________________________________________________________________________________\n",
      "fire7/expand3x3 (Conv2D)         (None, 3, 3, 192)     83136       fire7/relu_squeeze1x1[0][0]      \n",
      "____________________________________________________________________________________________________\n",
      "fire7/relu_expand1x1 (Activation (None, 3, 3, 192)     0           fire7/expand1x1[0][0]            \n",
      "____________________________________________________________________________________________________\n",
      "fire7/relu_expand3x3 (Activation (None, 3, 3, 192)     0           fire7/expand3x3[0][0]            \n",
      "____________________________________________________________________________________________________\n",
      "fire7/concat (Concatenate)       (None, 3, 3, 384)     0           fire7/relu_expand1x1[0][0]       \n",
      "                                                                   fire7/relu_expand3x3[0][0]       \n",
      "____________________________________________________________________________________________________\n",
      "fire8/squeeze1x1 (Conv2D)        (None, 3, 3, 64)      24640       fire7/concat[0][0]               \n",
      "____________________________________________________________________________________________________\n",
      "fire8/relu_squeeze1x1 (Activatio (None, 3, 3, 64)      0           fire8/squeeze1x1[0][0]           \n",
      "____________________________________________________________________________________________________\n",
      "fire8/expand1x1 (Conv2D)         (None, 3, 3, 256)     16640       fire8/relu_squeeze1x1[0][0]      \n",
      "____________________________________________________________________________________________________\n",
      "fire8/expand3x3 (Conv2D)         (None, 3, 3, 256)     147712      fire8/relu_squeeze1x1[0][0]      \n",
      "____________________________________________________________________________________________________\n",
      "fire8/relu_expand1x1 (Activation (None, 3, 3, 256)     0           fire8/expand1x1[0][0]            \n",
      "____________________________________________________________________________________________________\n",
      "fire8/relu_expand3x3 (Activation (None, 3, 3, 256)     0           fire8/expand3x3[0][0]            \n",
      "____________________________________________________________________________________________________\n",
      "fire8/concat (Concatenate)       (None, 3, 3, 512)     0           fire8/relu_expand1x1[0][0]       \n",
      "                                                                   fire8/relu_expand3x3[0][0]       \n",
      "____________________________________________________________________________________________________\n",
      "maxpool3 (MaxPooling2D)          (None, 1, 1, 512)     0           fire8/concat[0][0]               \n",
      "____________________________________________________________________________________________________\n",
      "fire9/squeeze1x1 (Conv2D)        (None, 1, 1, 64)      32832       maxpool3[0][0]                   \n",
      "____________________________________________________________________________________________________\n",
      "fire9/relu_squeeze1x1 (Activatio (None, 1, 1, 64)      0           fire9/squeeze1x1[0][0]           \n",
      "____________________________________________________________________________________________________\n",
      "fire9/expand1x1 (Conv2D)         (None, 1, 1, 256)     16640       fire9/relu_squeeze1x1[0][0]      \n",
      "____________________________________________________________________________________________________\n",
      "fire9/expand3x3 (Conv2D)         (None, 1, 1, 256)     147712      fire9/relu_squeeze1x1[0][0]      \n",
      "____________________________________________________________________________________________________\n",
      "fire9/relu_expand1x1 (Activation (None, 1, 1, 256)     0           fire9/expand1x1[0][0]            \n",
      "____________________________________________________________________________________________________\n",
      "fire9/relu_expand3x3 (Activation (None, 1, 1, 256)     0           fire9/expand3x3[0][0]            \n",
      "____________________________________________________________________________________________________\n",
      "fire9/concat (Concatenate)       (None, 1, 1, 512)     0           fire9/relu_expand1x1[0][0]       \n",
      "                                                                   fire9/relu_expand3x3[0][0]       \n",
      "____________________________________________________________________________________________________\n",
      "drop9 (Dropout)                  (None, 1, 1, 512)     0           fire9/concat[0][0]               \n",
      "____________________________________________________________________________________________________\n",
      "conv10 (Conv2D)                  (None, 1, 1, 43)      22059       drop9[0][0]                      \n",
      "____________________________________________________________________________________________________\n",
      "avgpool10 (GlobalAveragePooling2 (None, 43)            0           conv10[0][0]                     \n",
      "____________________________________________________________________________________________________\n",
      "softmax (Activation)             (None, 43)            0           avgpool10[0][0]                  \n",
      "====================================================================================================\n",
      "Total params: 757,483\n",
      "Trainable params: 757,483\n",
      "Non-trainable params: 0\n",
      "____________________________________________________________________________________________________\n"
     ]
    }
   ],
   "source": [
    "model = squeezeNet(nb_classes=43)"
   ]
  },
  {
   "cell_type": "code",
   "execution_count": 19,
   "metadata": {
    "collapsed": true
   },
   "outputs": [],
   "source": [
    "model_checkpoint = ModelCheckpoint('weights/model_squeezeNet_TSR.hdf5', monitor='val_loss', save_best_only=True)\n",
    "model_earlystopping = EarlyStopping(monitor='val_loss',patience=5)"
   ]
  },
  {
   "cell_type": "markdown",
   "metadata": {},
   "source": [
    "# Train and Test Model"
   ]
  },
  {
   "cell_type": "code",
   "execution_count": 20,
   "metadata": {},
   "outputs": [],
   "source": [
    "training_path = \"./dataset/Final_Training/\"\n",
    "test_path = \"./dataset/Final_Test/\"\n",
    "\n",
    "train_file = training_path + \"train.p\"\n",
    "test_file = test_path + \"test.p\"\n",
    "\n",
    "num_classes = 43\n",
    "batch_size = 256\n",
    "epochs = 500\n",
    "\n",
    "with open(train_file, mode='rb') as f:\n",
    "    X, y = pickle.load(f)\n",
    "with open(test_file, mode='rb') as f:\n",
    "    X_test, y_test = pickle.load(f)"
   ]
  },
  {
   "cell_type": "code",
   "execution_count": 21,
   "metadata": {
    "collapsed": true
   },
   "outputs": [],
   "source": [
    "X_train, X_valid, y_train, y_valid = train_test_split(X, y, test_size=0.2, random_state=88)"
   ]
  },
  {
   "cell_type": "code",
   "execution_count": 22,
   "metadata": {
    "collapsed": true
   },
   "outputs": [],
   "source": [
    "from keras.utils import np_utils\n",
    "y_train = np_utils.to_categorical(y_train, num_classes)\n",
    "y_valid = np_utils.to_categorical(y_valid, num_classes)\n",
    "y_test = np_utils.to_categorical(y_test, num_classes)"
   ]
  },
  {
   "cell_type": "code",
   "execution_count": 23,
   "metadata": {
    "collapsed": true
   },
   "outputs": [],
   "source": [
    "## Data Augmentation using Keras\n",
    "from keras.preprocessing.image import ImageDataGenerator\n",
    "\n",
    "train_datagen = ImageDataGenerator(\n",
    "    featurewise_center=True,\n",
    "    featurewise_std_normalization=True,\n",
    "    rotation_range=20,\n",
    "    width_shift_range=0.2,\n",
    "    height_shift_range=0.2,\n",
    "    shear_range=0.2,\n",
    "    zoom_range=0.2,\n",
    "    horizontal_flip=False)\n",
    "\n",
    "valid_datagen = ImageDataGenerator(\n",
    "    featurewise_center=True,\n",
    "    featurewise_std_normalization=True,\n",
    "    rotation_range=20,\n",
    "    width_shift_range=0.2,\n",
    "    height_shift_range=0.2,\n",
    "    shear_range=0.2,\n",
    "    zoom_range=0.2,\n",
    "    horizontal_flip=False)\n",
    "# compute quantities required for featurewise normalization\n",
    "# (std, mean, and principal components if ZCA whitening is applied)\n",
    "train_datagen.fit(X_train)\n",
    "valid_datagen.fit(X_valid)\n",
    "\n",
    "test_datagen = ImageDataGenerator(rescale=1./255)"
   ]
  },
  {
   "cell_type": "code",
   "execution_count": 28,
   "metadata": {
    "scrolled": true
   },
   "outputs": [
    {
     "name": "stdout",
     "output_type": "stream",
     "text": [
      "Epoch 1/500\n",
      "123/122 [==============================] - 13s - loss: 0.0978 - acc: 0.9710 - val_loss: 0.1068 - val_acc: 0.9697\n",
      "Epoch 2/500\n",
      "123/122 [==============================] - 13s - loss: 0.0914 - acc: 0.9733 - val_loss: 0.0969 - val_acc: 0.9708\n",
      "Epoch 3/500\n",
      "123/122 [==============================] - 13s - loss: 0.0958 - acc: 0.9725 - val_loss: 0.0864 - val_acc: 0.9722\n",
      "Epoch 4/500\n",
      "123/122 [==============================] - 12s - loss: 0.0907 - acc: 0.9730 - val_loss: 0.1010 - val_acc: 0.9719\n",
      "Epoch 5/500\n",
      "123/122 [==============================] - 13s - loss: 0.0890 - acc: 0.9730 - val_loss: 0.0943 - val_acc: 0.9736\n",
      "Epoch 6/500\n",
      "123/122 [==============================] - 13s - loss: 0.0884 - acc: 0.9723 - val_loss: 0.1336 - val_acc: 0.9612\n",
      "Epoch 7/500\n",
      "123/122 [==============================] - 13s - loss: 0.0935 - acc: 0.9724 - val_loss: 0.0882 - val_acc: 0.9726\n",
      "Epoch 8/500\n",
      "123/122 [==============================] - 13s - loss: 0.0914 - acc: 0.9738 - val_loss: 0.0702 - val_acc: 0.9787\n",
      "Epoch 9/500\n",
      "123/122 [==============================] - 13s - loss: 0.0852 - acc: 0.9753 - val_loss: 0.1014 - val_acc: 0.9691\n",
      "Epoch 10/500\n",
      "123/122 [==============================] - 13s - loss: 0.0794 - acc: 0.9745 - val_loss: 0.0968 - val_acc: 0.9711\n",
      "Epoch 11/500\n",
      "123/122 [==============================] - 13s - loss: 0.0891 - acc: 0.9747 - val_loss: 0.1550 - val_acc: 0.9566\n",
      "Epoch 12/500\n",
      "123/122 [==============================] - 13s - loss: 0.0982 - acc: 0.9722 - val_loss: 0.0786 - val_acc: 0.9779\n",
      "Epoch 13/500\n",
      "123/122 [==============================] - 13s - loss: 0.0860 - acc: 0.9750 - val_loss: 0.0938 - val_acc: 0.9714\n",
      "Epoch 14/500\n",
      "123/122 [==============================] - 13s - loss: 0.0823 - acc: 0.9761 - val_loss: 0.0849 - val_acc: 0.9739\n"
     ]
    },
    {
     "data": {
      "text/plain": [
       "<keras.callbacks.History at 0x7f1aabe76080>"
      ]
     },
     "execution_count": 28,
     "metadata": {},
     "output_type": "execute_result"
    }
   ],
   "source": [
    "model.fit_generator(train_datagen.flow(X_train, y_train, batch_size=batch_size),\n",
    "                    validation_data=valid_datagen.flow(X_valid, y_valid, batch_size=batch_size),\n",
    "                    validation_steps=len(X_valid)/batch_size,\n",
    "                    steps_per_epoch=len(X_train)/batch_size,\n",
    "                    epochs=epochs,\n",
    "                    callbacks=[model_checkpoint, model_earlystopping])"
   ]
  },
  {
   "cell_type": "code",
   "execution_count": 29,
   "metadata": {},
   "outputs": [
    {
     "name": "stdout",
     "output_type": "stream",
     "text": [
      "Accuracy = 0.7058\n"
     ]
    }
   ],
   "source": [
    "scores = model.evaluate_generator(test_datagen.flow(X_test, y_test, batch_size=batch_size*2), steps=len(X_test)/batch_size)\n",
    "#print(\"Accuracy = {:0.2f}\".format(scores[1]))\n",
    "print(\"Accuracy = {:0.4f}\".format(scores[1]))"
   ]
  },
  {
   "cell_type": "code",
   "execution_count": 31,
   "metadata": {
    "collapsed": true
   },
   "outputs": [],
   "source": [
    "model_json = model.to_json()\n",
    "with open(\"weights/model_squeezeNet_TSR.json\", \"w\") as json_file:\n",
    "    json_file.write(model_json)\n",
    "# serialize weights to HDF5"
   ]
  },
  {
   "cell_type": "code",
   "execution_count": null,
   "metadata": {
    "collapsed": true
   },
   "outputs": [],
   "source": []
  }
 ],
 "metadata": {
  "kernelspec": {
   "display_name": "Python 3",
   "language": "python",
   "name": "python3"
  },
  "language_info": {
   "codemirror_mode": {
    "name": "ipython",
    "version": 3
   },
   "file_extension": ".py",
   "mimetype": "text/x-python",
   "name": "python",
   "nbconvert_exporter": "python",
   "pygments_lexer": "ipython3",
   "version": "3.5.2"
  }
 },
 "nbformat": 4,
 "nbformat_minor": 2
}
