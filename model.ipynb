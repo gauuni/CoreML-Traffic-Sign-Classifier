{
 "cells": [
  {
   "cell_type": "code",
   "execution_count": 1,
   "metadata": {},
   "outputs": [
    {
     "name": "stderr",
     "output_type": "stream",
     "text": [
      "Using TensorFlow backend.\n"
     ]
    }
   ],
   "source": [
    "from keras.models import Model\n",
    "from keras.layers import Input, Activation, concatenate\n",
    "from keras.layers import Flatten, Dropout\n",
    "from keras.layers import Conv2D, MaxPool2D\n",
    "from keras.layers import GlobalAveragePooling2D\n",
    "from keras.optimizers import SGD"
   ]
  },
  {
   "cell_type": "code",
   "execution_count": 2,
   "metadata": {
    "collapsed": true
   },
   "outputs": [],
   "source": [
    "from keras.callbacks import ModelCheckpoint, EarlyStopping, TensorBoard\n",
    "from keras.utils import to_categorical\n",
    "from keras import backend as K"
   ]
  },
  {
   "cell_type": "code",
   "execution_count": 3,
   "metadata": {
    "collapsed": true
   },
   "outputs": [],
   "source": [
    "import pickle"
   ]
  },
  {
   "cell_type": "markdown",
   "metadata": {},
   "source": [
    "# Model\n",
    "## SqueezeNet"
   ]
  },
  {
   "cell_type": "code",
   "execution_count": 4,
   "metadata": {
    "collapsed": true
   },
   "outputs": [],
   "source": [
    "# Refer from : https://github.com/rcmalli/keras-squeezenet/blob/master/keras_squeezenet/squeezenet.py\n",
    "\n",
    "sq1x1 = \"squeeze1x1\"\n",
    "exp1x1 = \"expand1x1\"\n",
    "exp3x3 = \"expand3x3\"\n",
    "relu = \"relu_\"\n",
    "\n",
    "def fire_module(x, fire_id, squeeze=16, expand=64):\n",
    "    s_id = 'fire' + str(fire_id) + '/'\n",
    "    x = Conv2D(squeeze, (1,1), padding='valid', name=s_id + sq1x1)(x)\n",
    "    x = Activation('relu', name=s_id + relu + sq1x1)(x)\n",
    "    \n",
    "    left = Conv2D(expand, (1,1), padding='valid', name=s_id + exp1x1)(x)\n",
    "    left = Activation('relu', name=s_id + relu + exp1x1)(left)\n",
    "    \n",
    "    right = Conv2D(expand, (3,3), padding='same', name=s_id + exp3x3)(x)\n",
    "    right = Activation('relu', name=s_id + relu + exp3x3)(right)\n",
    "    \n",
    "    #x = add([left, right], name=s_id + 'concat')\n",
    "    x = concatenate([left, right], axis=3, name=s_id + 'concat')\n",
    "    \n",
    "    return x\n",
    "    "
   ]
  },
  {
   "cell_type": "code",
   "execution_count": 5,
   "metadata": {
    "collapsed": true
   },
   "outputs": [],
   "source": [
    "# Refer from : https://github.com/DT42/squeezenet_demo/blob/master/model.py\n",
    "\n",
    "def squeezeNet(nb_classes, input_shape=(32,32,3)):\n",
    "    inputs = Input((input_shape))\n",
    "    x = Conv2D(96, (7,7), activation='relu', strides=(2,2), padding='same', name='conv1')(inputs)\n",
    "    x = MaxPool2D(pool_size=(3,3), strides=(2,2), name='maxpool1')(x)\n",
    "    \n",
    "    x = fire_module(x, fire_id=2, squeeze=16, expand=64)\n",
    "    x = fire_module(x, fire_id=3, squeeze=16, expand=64)\n",
    "    x = fire_module(x, fire_id=4, squeeze=32, expand=128)\n",
    "    x = MaxPool2D(pool_size=(3,3), strides=(2,2), name='maxpool2')(x)\n",
    "    \n",
    "    x = fire_module(x, fire_id=5, squeeze=32, expand=128)\n",
    "    x = fire_module(x, fire_id=6, squeeze=48, expand=192)\n",
    "    x = fire_module(x, fire_id=7, squeeze=48, expand=192)\n",
    "    x = fire_module(x, fire_id=8, squeeze=64, expand=256)\n",
    "    x = MaxPool2D(pool_size=(3,3), strides=(2,2), name='maxpool3')(x)\n",
    "    \n",
    "    x = fire_module(x, fire_id=9, squeeze=64, expand=256)\n",
    "    \n",
    "    x = Dropout(0.5, name='drop9')(x)\n",
    "    \n",
    "    x = Conv2D(nb_classes, (1,1), activation='relu', padding='valid', name='conv10')(x)\n",
    "    x = GlobalAveragePooling2D(name='avgpool10')(x)\n",
    "    \n",
    "    softmax = Activation(\"softmax\", name='softmax')(x)\n",
    "    \n",
    "    model = Model(inputs=inputs, outputs=softmax)\n",
    "    model.summary()\n",
    "    sgd = SGD(lr=0.01, decay=1e-6, momentum=0.9, nesterov=True)\n",
    "    model.compile(optimizer=sgd, loss='categorical_crossentropy', metrics=['accuracy'])\n",
    "           \n",
    "    return model\n",
    "    "
   ]
  },
  {
   "cell_type": "code",
   "execution_count": 6,
   "metadata": {
    "scrolled": true
   },
   "outputs": [
    {
     "name": "stdout",
     "output_type": "stream",
     "text": [
      "____________________________________________________________________________________________________\n",
      "Layer (type)                     Output Shape          Param #     Connected to                     \n",
      "====================================================================================================\n",
      "input_1 (InputLayer)             (None, 32, 32, 3)     0                                            \n",
      "____________________________________________________________________________________________________\n",
      "conv1 (Conv2D)                   (None, 16, 16, 96)    14208       input_1[0][0]                    \n",
      "____________________________________________________________________________________________________\n",
      "maxpool1 (MaxPooling2D)          (None, 7, 7, 96)      0           conv1[0][0]                      \n",
      "____________________________________________________________________________________________________\n",
      "fire2/squeeze1x1 (Conv2D)        (None, 7, 7, 16)      1552        maxpool1[0][0]                   \n",
      "____________________________________________________________________________________________________\n",
      "fire2/relu_squeeze1x1 (Activatio (None, 7, 7, 16)      0           fire2/squeeze1x1[0][0]           \n",
      "____________________________________________________________________________________________________\n",
      "fire2/expand1x1 (Conv2D)         (None, 7, 7, 64)      1088        fire2/relu_squeeze1x1[0][0]      \n",
      "____________________________________________________________________________________________________\n",
      "fire2/expand3x3 (Conv2D)         (None, 7, 7, 64)      9280        fire2/relu_squeeze1x1[0][0]      \n",
      "____________________________________________________________________________________________________\n",
      "fire2/relu_expand1x1 (Activation (None, 7, 7, 64)      0           fire2/expand1x1[0][0]            \n",
      "____________________________________________________________________________________________________\n",
      "fire2/relu_expand3x3 (Activation (None, 7, 7, 64)      0           fire2/expand3x3[0][0]            \n",
      "____________________________________________________________________________________________________\n",
      "fire2/concat (Concatenate)       (None, 7, 7, 128)     0           fire2/relu_expand1x1[0][0]       \n",
      "                                                                   fire2/relu_expand3x3[0][0]       \n",
      "____________________________________________________________________________________________________\n",
      "fire3/squeeze1x1 (Conv2D)        (None, 7, 7, 16)      2064        fire2/concat[0][0]               \n",
      "____________________________________________________________________________________________________\n",
      "fire3/relu_squeeze1x1 (Activatio (None, 7, 7, 16)      0           fire3/squeeze1x1[0][0]           \n",
      "____________________________________________________________________________________________________\n",
      "fire3/expand1x1 (Conv2D)         (None, 7, 7, 64)      1088        fire3/relu_squeeze1x1[0][0]      \n",
      "____________________________________________________________________________________________________\n",
      "fire3/expand3x3 (Conv2D)         (None, 7, 7, 64)      9280        fire3/relu_squeeze1x1[0][0]      \n",
      "____________________________________________________________________________________________________\n",
      "fire3/relu_expand1x1 (Activation (None, 7, 7, 64)      0           fire3/expand1x1[0][0]            \n",
      "____________________________________________________________________________________________________\n",
      "fire3/relu_expand3x3 (Activation (None, 7, 7, 64)      0           fire3/expand3x3[0][0]            \n",
      "____________________________________________________________________________________________________\n",
      "fire3/concat (Concatenate)       (None, 7, 7, 128)     0           fire3/relu_expand1x1[0][0]       \n",
      "                                                                   fire3/relu_expand3x3[0][0]       \n",
      "____________________________________________________________________________________________________\n",
      "fire4/squeeze1x1 (Conv2D)        (None, 7, 7, 32)      4128        fire3/concat[0][0]               \n",
      "____________________________________________________________________________________________________\n",
      "fire4/relu_squeeze1x1 (Activatio (None, 7, 7, 32)      0           fire4/squeeze1x1[0][0]           \n",
      "____________________________________________________________________________________________________\n",
      "fire4/expand1x1 (Conv2D)         (None, 7, 7, 128)     4224        fire4/relu_squeeze1x1[0][0]      \n",
      "____________________________________________________________________________________________________\n",
      "fire4/expand3x3 (Conv2D)         (None, 7, 7, 128)     36992       fire4/relu_squeeze1x1[0][0]      \n",
      "____________________________________________________________________________________________________\n",
      "fire4/relu_expand1x1 (Activation (None, 7, 7, 128)     0           fire4/expand1x1[0][0]            \n",
      "____________________________________________________________________________________________________\n",
      "fire4/relu_expand3x3 (Activation (None, 7, 7, 128)     0           fire4/expand3x3[0][0]            \n",
      "____________________________________________________________________________________________________\n",
      "fire4/concat (Concatenate)       (None, 7, 7, 256)     0           fire4/relu_expand1x1[0][0]       \n",
      "                                                                   fire4/relu_expand3x3[0][0]       \n",
      "____________________________________________________________________________________________________\n",
      "maxpool2 (MaxPooling2D)          (None, 3, 3, 256)     0           fire4/concat[0][0]               \n",
      "____________________________________________________________________________________________________\n",
      "fire5/squeeze1x1 (Conv2D)        (None, 3, 3, 32)      8224        maxpool2[0][0]                   \n",
      "____________________________________________________________________________________________________\n",
      "fire5/relu_squeeze1x1 (Activatio (None, 3, 3, 32)      0           fire5/squeeze1x1[0][0]           \n",
      "____________________________________________________________________________________________________\n",
      "fire5/expand1x1 (Conv2D)         (None, 3, 3, 128)     4224        fire5/relu_squeeze1x1[0][0]      \n",
      "____________________________________________________________________________________________________\n",
      "fire5/expand3x3 (Conv2D)         (None, 3, 3, 128)     36992       fire5/relu_squeeze1x1[0][0]      \n",
      "____________________________________________________________________________________________________\n",
      "fire5/relu_expand1x1 (Activation (None, 3, 3, 128)     0           fire5/expand1x1[0][0]            \n",
      "____________________________________________________________________________________________________\n",
      "fire5/relu_expand3x3 (Activation (None, 3, 3, 128)     0           fire5/expand3x3[0][0]            \n",
      "____________________________________________________________________________________________________\n",
      "fire5/concat (Concatenate)       (None, 3, 3, 256)     0           fire5/relu_expand1x1[0][0]       \n",
      "                                                                   fire5/relu_expand3x3[0][0]       \n",
      "____________________________________________________________________________________________________\n",
      "fire6/squeeze1x1 (Conv2D)        (None, 3, 3, 48)      12336       fire5/concat[0][0]               \n",
      "____________________________________________________________________________________________________\n",
      "fire6/relu_squeeze1x1 (Activatio (None, 3, 3, 48)      0           fire6/squeeze1x1[0][0]           \n",
      "____________________________________________________________________________________________________\n",
      "fire6/expand1x1 (Conv2D)         (None, 3, 3, 192)     9408        fire6/relu_squeeze1x1[0][0]      \n",
      "____________________________________________________________________________________________________\n",
      "fire6/expand3x3 (Conv2D)         (None, 3, 3, 192)     83136       fire6/relu_squeeze1x1[0][0]      \n",
      "____________________________________________________________________________________________________\n",
      "fire6/relu_expand1x1 (Activation (None, 3, 3, 192)     0           fire6/expand1x1[0][0]            \n",
      "____________________________________________________________________________________________________\n",
      "fire6/relu_expand3x3 (Activation (None, 3, 3, 192)     0           fire6/expand3x3[0][0]            \n",
      "____________________________________________________________________________________________________\n",
      "fire6/concat (Concatenate)       (None, 3, 3, 384)     0           fire6/relu_expand1x1[0][0]       \n",
      "                                                                   fire6/relu_expand3x3[0][0]       \n",
      "____________________________________________________________________________________________________\n",
      "fire7/squeeze1x1 (Conv2D)        (None, 3, 3, 48)      18480       fire6/concat[0][0]               \n",
      "____________________________________________________________________________________________________\n",
      "fire7/relu_squeeze1x1 (Activatio (None, 3, 3, 48)      0           fire7/squeeze1x1[0][0]           \n",
      "____________________________________________________________________________________________________\n",
      "fire7/expand1x1 (Conv2D)         (None, 3, 3, 192)     9408        fire7/relu_squeeze1x1[0][0]      \n",
      "____________________________________________________________________________________________________\n",
      "fire7/expand3x3 (Conv2D)         (None, 3, 3, 192)     83136       fire7/relu_squeeze1x1[0][0]      \n",
      "____________________________________________________________________________________________________\n",
      "fire7/relu_expand1x1 (Activation (None, 3, 3, 192)     0           fire7/expand1x1[0][0]            \n",
      "____________________________________________________________________________________________________\n",
      "fire7/relu_expand3x3 (Activation (None, 3, 3, 192)     0           fire7/expand3x3[0][0]            \n",
      "____________________________________________________________________________________________________\n",
      "fire7/concat (Concatenate)       (None, 3, 3, 384)     0           fire7/relu_expand1x1[0][0]       \n",
      "                                                                   fire7/relu_expand3x3[0][0]       \n",
      "____________________________________________________________________________________________________\n",
      "fire8/squeeze1x1 (Conv2D)        (None, 3, 3, 64)      24640       fire7/concat[0][0]               \n",
      "____________________________________________________________________________________________________\n",
      "fire8/relu_squeeze1x1 (Activatio (None, 3, 3, 64)      0           fire8/squeeze1x1[0][0]           \n",
      "____________________________________________________________________________________________________\n",
      "fire8/expand1x1 (Conv2D)         (None, 3, 3, 256)     16640       fire8/relu_squeeze1x1[0][0]      \n",
      "____________________________________________________________________________________________________\n",
      "fire8/expand3x3 (Conv2D)         (None, 3, 3, 256)     147712      fire8/relu_squeeze1x1[0][0]      \n",
      "____________________________________________________________________________________________________\n",
      "fire8/relu_expand1x1 (Activation (None, 3, 3, 256)     0           fire8/expand1x1[0][0]            \n",
      "____________________________________________________________________________________________________\n",
      "fire8/relu_expand3x3 (Activation (None, 3, 3, 256)     0           fire8/expand3x3[0][0]            \n",
      "____________________________________________________________________________________________________\n",
      "fire8/concat (Concatenate)       (None, 3, 3, 512)     0           fire8/relu_expand1x1[0][0]       \n",
      "                                                                   fire8/relu_expand3x3[0][0]       \n",
      "____________________________________________________________________________________________________\n",
      "maxpool3 (MaxPooling2D)          (None, 1, 1, 512)     0           fire8/concat[0][0]               \n",
      "____________________________________________________________________________________________________\n",
      "fire9/squeeze1x1 (Conv2D)        (None, 1, 1, 64)      32832       maxpool3[0][0]                   \n",
      "____________________________________________________________________________________________________\n",
      "fire9/relu_squeeze1x1 (Activatio (None, 1, 1, 64)      0           fire9/squeeze1x1[0][0]           \n",
      "____________________________________________________________________________________________________\n",
      "fire9/expand1x1 (Conv2D)         (None, 1, 1, 256)     16640       fire9/relu_squeeze1x1[0][0]      \n",
      "____________________________________________________________________________________________________\n",
      "fire9/expand3x3 (Conv2D)         (None, 1, 1, 256)     147712      fire9/relu_squeeze1x1[0][0]      \n",
      "____________________________________________________________________________________________________\n",
      "fire9/relu_expand1x1 (Activation (None, 1, 1, 256)     0           fire9/expand1x1[0][0]            \n",
      "____________________________________________________________________________________________________\n",
      "fire9/relu_expand3x3 (Activation (None, 1, 1, 256)     0           fire9/expand3x3[0][0]            \n",
      "____________________________________________________________________________________________________\n",
      "fire9/concat (Concatenate)       (None, 1, 1, 512)     0           fire9/relu_expand1x1[0][0]       \n",
      "                                                                   fire9/relu_expand3x3[0][0]       \n",
      "____________________________________________________________________________________________________\n",
      "drop9 (Dropout)                  (None, 1, 1, 512)     0           fire9/concat[0][0]               \n",
      "____________________________________________________________________________________________________\n",
      "conv10 (Conv2D)                  (None, 1, 1, 43)      22059       drop9[0][0]                      \n",
      "____________________________________________________________________________________________________\n",
      "avgpool10 (GlobalAveragePooling2 (None, 43)            0           conv10[0][0]                     \n",
      "____________________________________________________________________________________________________\n",
      "softmax (Activation)             (None, 43)            0           avgpool10[0][0]                  \n",
      "====================================================================================================\n",
      "Total params: 757,483\n",
      "Trainable params: 757,483\n",
      "Non-trainable params: 0\n",
      "____________________________________________________________________________________________________\n"
     ]
    }
   ],
   "source": [
    "model = squeezeNet(nb_classes=43)"
   ]
  },
  {
   "cell_type": "code",
   "execution_count": 15,
   "metadata": {
    "collapsed": true
   },
   "outputs": [],
   "source": [
    "model_checkpoint = ModelCheckpoint('weights/model_squeezeNet_TSR.hdf5', monitor='loss', save_best_only=True)\n",
    "model_earlystopping = EarlyStopping(monitor='loss',patience=5)"
   ]
  },
  {
   "cell_type": "markdown",
   "metadata": {},
   "source": [
    "# Train and Test Model"
   ]
  },
  {
   "cell_type": "code",
   "execution_count": 8,
   "metadata": {},
   "outputs": [],
   "source": [
    "training_path = \"./dataset/Final_Training/\"\n",
    "test_path = \"./dataset/Final_Test/\"\n",
    "\n",
    "train_file = training_path + \"train.p\"\n",
    "test_file = test_path + \"test.p\"\n",
    "\n",
    "num_classes = 43\n",
    "batch_size = 256\n",
    "epochs = 1000\n",
    "\n",
    "with open(train_file, mode='rb') as f:\n",
    "    X_train, y_train = pickle.load(f)\n",
    "with open(test_file, mode='rb') as f:\n",
    "    X_test, y_test = pickle.load(f)"
   ]
  },
  {
   "cell_type": "code",
   "execution_count": 9,
   "metadata": {
    "collapsed": true
   },
   "outputs": [],
   "source": [
    "from keras.utils import np_utils\n",
    "y_train = np_utils.to_categorical(y_train, num_classes)\n",
    "y_test = np_utils.to_categorical(y_test, num_classes)"
   ]
  },
  {
   "cell_type": "code",
   "execution_count": 10,
   "metadata": {
    "collapsed": true
   },
   "outputs": [],
   "source": [
    "## Data Augmentation using Keras\n",
    "from keras.preprocessing.image import ImageDataGenerator\n",
    "\n",
    "train_datagen = ImageDataGenerator(\n",
    "    featurewise_center=True,\n",
    "    featurewise_std_normalization=True,\n",
    "    rotation_range=20,\n",
    "    width_shift_range=0.2,\n",
    "    height_shift_range=0.2,\n",
    "    horizontal_flip=False)\n",
    "\n",
    "# compute quantities required for featurewise normalization\n",
    "# (std, mean, and principal components if ZCA whitening is applied)\n",
    "train_datagen.fit(X_train)\n",
    "\n",
    "test_datagen = ImageDataGenerator(rescale=1./255)"
   ]
  },
  {
   "cell_type": "code",
   "execution_count": 16,
   "metadata": {
    "scrolled": true
   },
   "outputs": [
    {
     "name": "stdout",
     "output_type": "stream",
     "text": [
      "Epoch 1/1000\n",
      "154/153 [==============================] - 16s - loss: 0.3785 - acc: 0.8789    \n",
      "Epoch 2/1000\n",
      "154/153 [==============================] - 15s - loss: 0.3445 - acc: 0.8919    \n",
      "Epoch 3/1000\n",
      "154/153 [==============================] - 15s - loss: 0.3085 - acc: 0.9033    \n",
      "Epoch 4/1000\n",
      "154/153 [==============================] - 15s - loss: 0.3064 - acc: 0.9040    \n",
      "Epoch 5/1000\n",
      "154/153 [==============================] - 16s - loss: 0.2572 - acc: 0.9205    \n",
      "Epoch 6/1000\n",
      "154/153 [==============================] - 15s - loss: 0.2420 - acc: 0.9263    \n",
      "Epoch 7/1000\n",
      "154/153 [==============================] - 16s - loss: 0.2254 - acc: 0.9316    \n",
      "Epoch 8/1000\n",
      "154/153 [==============================] - 15s - loss: 0.2229 - acc: 0.9332    \n",
      "Epoch 9/1000\n",
      "154/153 [==============================] - 15s - loss: 0.1940 - acc: 0.9424    \n",
      "Epoch 10/1000\n",
      "154/153 [==============================] - 16s - loss: 0.1893 - acc: 0.9430    \n",
      "Epoch 11/1000\n",
      "154/153 [==============================] - 17s - loss: 0.1824 - acc: 0.9450    \n",
      "Epoch 12/1000\n",
      "154/153 [==============================] - 16s - loss: 0.1704 - acc: 0.9487    \n",
      "Epoch 13/1000\n",
      "154/153 [==============================] - 16s - loss: 0.1609 - acc: 0.9538    - ETA: 2s - loss: 0.16 - ETA: 0s - loss: 0.1618 - acc:\n",
      "Epoch 14/1000\n",
      "154/153 [==============================] - 16s - loss: 0.1553 - acc: 0.9536    \n",
      "Epoch 15/1000\n",
      "154/153 [==============================] - 15s - loss: 0.1513 - acc: 0.9571    \n",
      "Epoch 16/1000\n",
      "154/153 [==============================] - 17s - loss: 0.1421 - acc: 0.9599    \n",
      "Epoch 17/1000\n",
      "154/153 [==============================] - 16s - loss: 0.1432 - acc: 0.9579    \n",
      "Epoch 18/1000\n",
      "154/153 [==============================] - 16s - loss: 0.1268 - acc: 0.9620    \n",
      "Epoch 19/1000\n",
      "154/153 [==============================] - 16s - loss: 0.1229 - acc: 0.9642    \n",
      "Epoch 20/1000\n",
      "154/153 [==============================] - 15s - loss: 0.1208 - acc: 0.9656    \n",
      "Epoch 21/1000\n",
      "154/153 [==============================] - 16s - loss: 0.1157 - acc: 0.9644    \n",
      "Epoch 22/1000\n",
      "154/153 [==============================] - 16s - loss: 0.1150 - acc: 0.9667    \n",
      "Epoch 23/1000\n",
      "154/153 [==============================] - 17s - loss: 0.1148 - acc: 0.9673    \n",
      "Epoch 24/1000\n",
      "154/153 [==============================] - 17s - loss: 0.1152 - acc: 0.9668    \n",
      "Epoch 25/1000\n",
      "154/153 [==============================] - 17s - loss: 0.1086 - acc: 0.9684    \n",
      "Epoch 26/1000\n",
      "154/153 [==============================] - 16s - loss: 0.1056 - acc: 0.9699    \n",
      "Epoch 27/1000\n",
      "154/153 [==============================] - 15s - loss: 0.0942 - acc: 0.9719    \n",
      "Epoch 28/1000\n",
      "154/153 [==============================] - 15s - loss: 0.1073 - acc: 0.9700    - ETA\n",
      "Epoch 29/1000\n",
      "154/153 [==============================] - 16s - loss: 0.1011 - acc: 0.9709    \n",
      "Epoch 30/1000\n",
      "154/153 [==============================] - 17s - loss: 0.0982 - acc: 0.9720    \n",
      "Epoch 31/1000\n",
      "154/153 [==============================] - 16s - loss: 0.0953 - acc: 0.9723    - ETA: 0s - loss: 0.0950 - acc: 0.97\n",
      "Epoch 32/1000\n",
      "154/153 [==============================] - 16s - loss: 0.0867 - acc: 0.9759    \n",
      "Epoch 33/1000\n",
      "154/153 [==============================] - 16s - loss: 0.0887 - acc: 0.9742    \n",
      "Epoch 34/1000\n",
      "154/153 [==============================] - 12s - loss: 0.0868 - acc: 0.9754    \n",
      "Epoch 35/1000\n",
      "154/153 [==============================] - 12s - loss: 0.0949 - acc: 0.9729    \n",
      "Epoch 36/1000\n",
      "154/153 [==============================] - 12s - loss: 0.0839 - acc: 0.9762    \n",
      "Epoch 37/1000\n",
      "154/153 [==============================] - 12s - loss: 0.0801 - acc: 0.9781    \n",
      "Epoch 38/1000\n",
      "154/153 [==============================] - 15s - loss: 0.0784 - acc: 0.9776    - ETA: 4s - loss:  - ETA: 2s - loss: \n",
      "Epoch 39/1000\n",
      "154/153 [==============================] - 16s - loss: 0.0807 - acc: 0.9760    \n",
      "Epoch 40/1000\n",
      "154/153 [==============================] - 16s - loss: 0.0717 - acc: 0.9791    \n",
      "Epoch 41/1000\n",
      "154/153 [==============================] - 16s - loss: 0.0716 - acc: 0.9791    \n",
      "Epoch 42/1000\n",
      "154/153 [==============================] - 17s - loss: 0.0703 - acc: 0.9807    - ETA: 2s - loss: 0.069\n",
      "Epoch 43/1000\n",
      "154/153 [==============================] - 17s - loss: 0.0703 - acc: 0.9796    \n",
      "Epoch 44/1000\n",
      "154/153 [==============================] - 16s - loss: 0.0735 - acc: 0.9802    \n",
      "Epoch 45/1000\n",
      "154/153 [==============================] - 16s - loss: 0.0767 - acc: 0.9786    - ETA: 1s - loss: 0.0730 - ac\n",
      "Epoch 46/1000\n",
      "154/153 [==============================] - 17s - loss: 0.0698 - acc: 0.9802    \n",
      "Epoch 47/1000\n",
      "154/153 [==============================] - 16s - loss: 0.0674 - acc: 0.9808    \n",
      "Epoch 48/1000\n",
      "154/153 [==============================] - 16s - loss: 0.0637 - acc: 0.9821    \n",
      "Epoch 49/1000\n",
      "154/153 [==============================] - 16s - loss: 0.0683 - acc: 0.9813    \n",
      "Epoch 50/1000\n",
      "154/153 [==============================] - 16s - loss: 0.0734 - acc: 0.9793    \n",
      "Epoch 51/1000\n",
      "154/153 [==============================] - 16s - loss: 0.0632 - acc: 0.9822    \n",
      "Epoch 52/1000\n",
      "154/153 [==============================] - 16s - loss: 0.0610 - acc: 0.9823    \n",
      "Epoch 53/1000\n",
      "154/153 [==============================] - 16s - loss: 0.0593 - acc: 0.9826    - ETA: 1s - loss: 0.0602 - acc:\n",
      "Epoch 54/1000\n",
      "154/153 [==============================] - 15s - loss: 0.0668 - acc: 0.9809    \n",
      "Epoch 55/1000\n",
      "154/153 [==============================] - 15s - loss: 0.0616 - acc: 0.9822    \n",
      "Epoch 56/1000\n",
      "154/153 [==============================] - 15s - loss: 0.0583 - acc: 0.9836    \n",
      "Epoch 57/1000\n",
      "154/153 [==============================] - 16s - loss: 0.0599 - acc: 0.9823    - ETA: 1s - loss: 0.0600 \n",
      "Epoch 58/1000\n",
      "154/153 [==============================] - 16s - loss: 0.0560 - acc: 0.9843    - ETA: \n",
      "Epoch 59/1000\n",
      "154/153 [==============================] - 15s - loss: 0.0607 - acc: 0.9831    \n",
      "Epoch 60/1000\n",
      "154/153 [==============================] - 15s - loss: 0.0564 - acc: 0.9842    \n",
      "Epoch 61/1000\n",
      "154/153 [==============================] - 16s - loss: 0.0598 - acc: 0.9831    \n",
      "Epoch 62/1000\n",
      "154/153 [==============================] - 15s - loss: 0.0599 - acc: 0.9828    - ETA: 2s - loss\n",
      "Epoch 63/1000\n",
      "154/153 [==============================] - 15s - loss: 0.0540 - acc: 0.9849    \n",
      "Epoch 64/1000\n",
      "154/153 [==============================] - 16s - loss: 0.0569 - acc: 0.9843    - ETA: 4s - ETA: 1s - loss: 0.0570 - acc\n",
      "Epoch 65/1000\n",
      "154/153 [==============================] - 15s - loss: 0.0474 - acc: 0.9865    \n",
      "Epoch 66/1000\n",
      "154/153 [==============================] - 16s - loss: 0.0473 - acc: 0.9875    \n",
      "Epoch 67/1000\n",
      "154/153 [==============================] - 16s - loss: 0.0554 - acc: 0.9846    - ETA: 7s - loss: 0.05\n",
      "Epoch 68/1000\n",
      "154/153 [==============================] - 15s - loss: 0.0476 - acc: 0.9861    \n",
      "Epoch 69/1000\n",
      "154/153 [==============================] - 15s - loss: 0.0556 - acc: 0.9848    \n",
      "Epoch 70/1000\n",
      "154/153 [==============================] - 15s - loss: 0.0498 - acc: 0.9864    \n",
      "Epoch 71/1000\n",
      "154/153 [==============================] - 15s - loss: 0.0536 - acc: 0.9841    \n",
      "Epoch 72/1000\n",
      "154/153 [==============================] - 16s - loss: 0.0492 - acc: 0.9866    \n"
     ]
    },
    {
     "data": {
      "text/plain": [
       "<keras.callbacks.History at 0x7f5d5c64beb8>"
      ]
     },
     "execution_count": 16,
     "metadata": {},
     "output_type": "execute_result"
    }
   ],
   "source": [
    "model.fit_generator(train_datagen.flow(X_train, y_train, batch_size=batch_size),\n",
    "                    steps_per_epoch=len(X_train)/batch_size, \n",
    "                    epochs=epochs, \n",
    "                    callbacks=[model_checkpoint, model_earlystopping])"
   ]
  },
  {
   "cell_type": "code",
   "execution_count": 24,
   "metadata": {},
   "outputs": [
    {
     "name": "stdout",
     "output_type": "stream",
     "text": [
      "Accuracy = 0.7552\n"
     ]
    }
   ],
   "source": [
    "scores = model.evaluate_generator(test_datagen.flow(X_test, y_test, batch_size=batch_size*2), steps=len(X_test)/batch_size)\n",
    "#print(\"Accuracy = {:0.2f}\".format(scores[1]))\n",
    "print(\"Accuracy = {:0.4f}\".format(scores[1]))"
   ]
  },
  {
   "cell_type": "code",
   "execution_count": null,
   "metadata": {
    "collapsed": true
   },
   "outputs": [],
   "source": []
  }
 ],
 "metadata": {
  "kernelspec": {
   "display_name": "Python 3",
   "language": "python",
   "name": "python3"
  },
  "language_info": {
   "codemirror_mode": {
    "name": "ipython",
    "version": 3
   },
   "file_extension": ".py",
   "mimetype": "text/x-python",
   "name": "python",
   "nbconvert_exporter": "python",
   "pygments_lexer": "ipython3",
   "version": "3.5.2"
  }
 },
 "nbformat": 4,
 "nbformat_minor": 2
}
